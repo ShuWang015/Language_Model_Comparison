{
  "cells": [
    {
      "cell_type": "markdown",
      "metadata": {
        "id": "B7bHbJw05Qgh"
      },
      "source": [
        "# CS 505 Project\n",
        "\n",
        "Team member: Shuo Wang\n",
        "\n",
        "\n",
        "In this document, I will develop 2 language models, one in N-grams model and one in neural network model. I will train two models with both Chinese corpus and English corpus and compare how they perform. The corpus I use in this file can be found in the same zip folder with this document. You can modify some of the code to run it by youself."
      ]
    },
    {
      "cell_type": "code",
      "execution_count": 169,
      "metadata": {
        "id": "oNilBosy5Qgn",
        "scrolled": false
      },
      "outputs": [],
      "source": [
        "import math\n",
        "import numpy as np\n",
        "from numpy.random import shuffle, seed, choice\n",
        "from tqdm import tqdm\n",
        "from collections import defaultdict, Counter\n",
        "import pandas as pd\n",
        "import re\n",
        "import matplotlib.pyplot as plt\n",
        "import random\n",
        "\n",
        "import torch\n",
        "from torch.utils.data import Dataset,DataLoader\n",
        "import torch.nn.functional as F\n",
        "from torch.utils.data import random_split,Dataset,DataLoader\n",
        "from torchvision import datasets, transforms\n",
        "from torch import nn, optim\n",
        "\n",
        "import torchvision.transforms as T\n",
        "\n",
        "from sklearn.decomposition import PCA, TruncatedSVD\n",
        "from sklearn.feature_extraction.text import TfidfVectorizer, CountVectorizer\n",
        "\n",
        "from transformers import BertTokenizer, BertForMaskedLM\n"
      ]
    },
    {
      "cell_type": "markdown",
      "source": [
        "# Import the Corpus\n",
        "\n",
        "Both corpus are from Universal Dependencies 2.13. They offer txt files for the same content in different languages, so two corpus will be relatively similar to each other. This is good for this project comparing to using other corpus because when I explore how different languages affect the language models, the uncertainty brought by the actual content of the message should be minimized, and having the same content does that perfectly\n",
        "\n",
        "Here's the link for the Universal Dependencies 2.13: https://lindat.mff.cuni.cz/repository/xmlui/handle/11234/1-5287"
      ],
      "metadata": {
        "id": "UFvGvbYMjhXr"
      }
    },
    {
      "cell_type": "code",
      "source": [
        "from google.colab import drive\n",
        "drive.mount('/content/drive')"
      ],
      "metadata": {
        "id": "LJ9b7efNfqVh",
        "colab": {
          "base_uri": "https://localhost:8080/"
        },
        "outputId": "e9019718-a0ce-4283-a2df-4fcb7e4d97b9"
      },
      "execution_count": 62,
      "outputs": [
        {
          "output_type": "stream",
          "name": "stdout",
          "text": [
            "Drive already mounted at /content/drive; to attempt to forcibly remount, call drive.mount(\"/content/drive\", force_remount=True).\n"
          ]
        }
      ]
    },
    {
      "cell_type": "code",
      "source": [
        "# English corpus\n",
        "english_corpus = \"/content/drive/MyDrive/CS505 Project/en_pud-ud-test.txt\"\n",
        "\n",
        "# Tokenizing English corpus\n",
        "tokenizer_en = BertTokenizer.from_pretrained('bert-base-uncased')\n",
        "with open(english_corpus, 'r', encoding='utf-8') as file_en:\n",
        "    text_en = file_en.read()\n",
        "tokenized_text_en = tokenizer_en.tokenize(text_en)\n",
        "indexed_tokens_en = tokenizer_en.convert_tokens_to_ids(tokenized_text_en)\n",
        "tokens_tensor_en = torch.tensor([indexed_tokens_en])"
      ],
      "metadata": {
        "id": "_JpcwXSqrtcE"
      },
      "execution_count": 63,
      "outputs": []
    },
    {
      "cell_type": "code",
      "source": [
        "# Chinese corpus\n",
        "chinese_corpus = \"/content/drive/MyDrive/CS505 Project/zh_pud-ud-test.txt\"\n",
        "\n",
        "# Tokenizing Chinese corpus\n",
        "tokenizer_cn = BertTokenizer.from_pretrained('bert-base-chinese')\n",
        "with open(chinese_corpus, 'r', encoding='utf-8') as file_cn:\n",
        "    text_cn = file_cn.read()\n",
        "tokenized_text_cn = tokenizer_cn.tokenize(text_cn)\n",
        "indexed_tokens_cn = tokenizer_cn.convert_tokens_to_ids(tokenized_text_cn)\n",
        "tokens_tensor_cn = torch.tensor([indexed_tokens_cn])"
      ],
      "metadata": {
        "id": "F7_W_uGLrwVe"
      },
      "execution_count": 64,
      "outputs": []
    },
    {
      "cell_type": "code",
      "source": [
        "print(text_en[:1000])"
      ],
      "metadata": {
        "id": "DUlhPR-vzKlJ",
        "colab": {
          "base_uri": "https://localhost:8080/"
        },
        "outputId": "cafba91f-eabd-4b6a-a559-c49341e40c68"
      },
      "execution_count": 65,
      "outputs": [
        {
          "output_type": "stream",
          "name": "stdout",
          "text": [
            "“While much of the digital transition is unprecedented in the United States, the\n",
            "peaceful transition of power is not,” Obama special assistant Kori Schulman\n",
            "wrote in a blog post Monday. For those who follow social media transitions on\n",
            "Capitol Hill, this will be a little different. \n",
            "\n",
            "But in a break from his past rhetoric about curtailing immigration, the GOP\n",
            "nominee proclaimed that as president he would allow “tremendous numbers” of\n",
            "legal immigrants based on a “merit system.” “So I hate to put a little pressure\n",
            "on you, but the fate of the republic rests on your shoulders,” he told the crowd\n",
            "gathered on a sports field at the University of North Carolina. The new spending\n",
            "is fueled by Clinton’s large bank account. What she’s saying and what she’s\n",
            "doing, it — actually, it’s unbelievable. \n",
            "\n",
            "$5,000 per person, the maximum allowed. In early October, the transition team\n",
            "used the same venue to meet with technology lobbyists, inviting representatives\n",
            "from Uber, the Motion Picture Association of \n"
          ]
        }
      ]
    },
    {
      "cell_type": "markdown",
      "source": [
        "If you cannot read Chinese, the following content is a direct translation of the English content above. The phrase \"奧巴馬\" means \"Obama\"......"
      ],
      "metadata": {
        "id": "HSN8NS-x1qEX"
      }
    },
    {
      "cell_type": "code",
      "source": [
        "print(text_cn[:400])"
      ],
      "metadata": {
        "id": "LmXMgkUX1PQe",
        "colab": {
          "base_uri": "https://localhost:8080/"
        },
        "outputId": "a834e881-f294-46ff-9585-cd85b6d411a1"
      },
      "execution_count": 66,
      "outputs": [
        {
          "output_type": "stream",
          "name": "stdout",
          "text": [
            "\"雖然美國的許多數字化轉型都是史無前例的，但權力的和平轉移卻存在先例，”奧巴馬的特別助理科瑞·舒爾曼在周一發布的博客中寫道。 \n",
            "\n",
            "對於通過社交媒體來跟踪國會山任職變遷的人而言，這次與以往有所不同。 \n",
            "\n",
            "但是，他在過去的一次進行移民削減相關演說的休息環節，作為共和黨候選人，他曾宣稱，作為總統，基於政績的考量他將允許“超大量”合法移民。 \n",
            "\n",
            "“所以我不想給你們施加哪怕一丁點的壓力，但你們肩負的是共和國的命運，”奧巴馬對在北卡羅來納大學運動場上的群眾說道。 \n",
            "\n",
            "希拉里的巨額銀行帳戶使政府支出的突破了新上限。 \n",
            "\n",
            "她的所言所行，簡直令人難以置信。 \n",
            "\n",
            "最高限額為每人5,000美元。 \n",
            "\n",
            "在十月初，政權轉移團隊在同一場地，會見了技術團隊的說客代表，他們分別來自Uber公司、美國電影協會、美國消費科技協會及其他團體。 \n",
            "\n",
            "這次集會原本定在幾個街區之外的H街上華盛頓的私人大都會俱樂部舉行。 \n",
            "\n",
            "也許著裝\n"
          ]
        }
      ]
    },
    {
      "cell_type": "markdown",
      "source": [
        "Here's the takenized text of both corpus:"
      ],
      "metadata": {
        "id": "2nQLu6wb2FsS"
      }
    },
    {
      "cell_type": "code",
      "source": [
        "print(tokenized_text_en[:100])"
      ],
      "metadata": {
        "id": "vcY8fwyXyewf",
        "colab": {
          "base_uri": "https://localhost:8080/"
        },
        "outputId": "add4cd63-c778-45c8-f344-d814b5ca1c9e"
      },
      "execution_count": 67,
      "outputs": [
        {
          "output_type": "stream",
          "name": "stdout",
          "text": [
            "['“', 'while', 'much', 'of', 'the', 'digital', 'transition', 'is', 'unprecedented', 'in', 'the', 'united', 'states', ',', 'the', 'peaceful', 'transition', 'of', 'power', 'is', 'not', ',', '”', 'obama', 'special', 'assistant', 'ko', '##ri', 'sc', '##hul', '##man', 'wrote', 'in', 'a', 'blog', 'post', 'monday', '.', 'for', 'those', 'who', 'follow', 'social', 'media', 'transitions', 'on', 'capitol', 'hill', ',', 'this', 'will', 'be', 'a', 'little', 'different', '.', 'but', 'in', 'a', 'break', 'from', 'his', 'past', 'rhetoric', 'about', 'curt', '##ailing', 'immigration', ',', 'the', 'go', '##p', 'nominee', 'proclaimed', 'that', 'as', 'president', 'he', 'would', 'allow', '“', 'tremendous', 'numbers', '”', 'of', 'legal', 'immigrants', 'based', 'on', 'a', '“', 'merit', 'system', '.', '”', '“', 'so', 'i', 'hate', 'to']\n"
          ]
        }
      ]
    },
    {
      "cell_type": "code",
      "source": [
        "print(tokenized_text_cn[:100])"
      ],
      "metadata": {
        "id": "0l0iErCqygNZ",
        "colab": {
          "base_uri": "https://localhost:8080/"
        },
        "outputId": "9f0b847d-1c80-449c-ed14-0c0e80ac063f"
      },
      "execution_count": 68,
      "outputs": [
        {
          "output_type": "stream",
          "name": "stdout",
          "text": [
            "['\"', '雖', '然', '美', '國', '的', '許', '多', '數', '字', '化', '轉', '型', '都', '是', '史', '無', '前', '例', '的', '，', '但', '權', '力', '的', '和', '平', '轉', '移', '卻', '存', '在', '先', '例', '，', '[UNK]', '奧', '巴', '馬', '的', '特', '別', '助', '理', '科', '瑞', '·', '舒', '爾', '曼', '在', '周', '一', '發', '布', '的', '博', '客', '中', '寫', '道', '。', '對', '於', '通', '過', '社', '交', '媒', '體', '來', '跟', '踪', '國', '會', '山', '任', '職', '變', '遷', '的', '人', '而', '言', '，', '這', '次', '與', '以', '往', '有', '所', '不', '同', '。', '但', '是', '，', '他', '在']\n"
          ]
        }
      ]
    },
    {
      "cell_type": "markdown",
      "source": [
        "Note that since two corpus are in different languages, the length of the text is very different:"
      ],
      "metadata": {
        "id": "287Rs41g5d_1"
      }
    },
    {
      "cell_type": "code",
      "source": [
        "len(text_cn)"
      ],
      "metadata": {
        "colab": {
          "base_uri": "https://localhost:8080/"
        },
        "id": "KiJdcxkj5iJe",
        "outputId": "2ea40f8c-57b6-452d-f836-8d233c340ee0"
      },
      "execution_count": 69,
      "outputs": [
        {
          "output_type": "execute_result",
          "data": {
            "text/plain": [
              "38581"
            ]
          },
          "metadata": {},
          "execution_count": 69
        }
      ]
    },
    {
      "cell_type": "code",
      "source": [
        "len(text_en)"
      ],
      "metadata": {
        "colab": {
          "base_uri": "https://localhost:8080/"
        },
        "id": "aWXbWUPv5lCH",
        "outputId": "51941b3f-2632-4a75-c1eb-b6a104d8af1c"
      },
      "execution_count": 70,
      "outputs": [
        {
          "output_type": "execute_result",
          "data": {
            "text/plain": [
              "111914"
            ]
          },
          "metadata": {},
          "execution_count": 70
        }
      ]
    },
    {
      "cell_type": "markdown",
      "source": [
        "Chinese version is more concise than English version. Its length is almost one third of the English corpus length. This could potentially influence the performance of the language model?"
      ],
      "metadata": {
        "id": "uzzzRE955r4S"
      }
    },
    {
      "cell_type": "markdown",
      "source": [
        "# Building N-gram Model\n",
        "\n",
        "We will first try N-grams and see how different two language can be. In Chinese, many words have different meanings when they are put together with other words. For example, \"发布\" means \"publish (verb)\" and \"发现\" means \"discover (verb)\". Some of the phrase is fixed, meaning no other combination of words can appear beside the given combination. By using N-grams, the probability of certain combinations appearing in the predictions should be much more higher than other combinations after we train the model. A word in English would become a pharse in Chinese."
      ],
      "metadata": {
        "id": "o0G0IUry2NqQ"
      }
    },
    {
      "cell_type": "code",
      "source": [
        "# process the corpus\n",
        "en_processed = text_en.replace('\\n',' ').replace('“','').replace('”','').replace('\"','')\n",
        "\n",
        "# split the corpus into sentences\n",
        "en_sentence = []\n",
        "ls = en_processed.split('; ')\n",
        "for i in ls:\n",
        "    en_sentence += i.split('! ')\n",
        "ls = []\n",
        "for i in en_sentence:\n",
        "    ls += i.split('? ')\n",
        "en_sentence = []\n",
        "for i in ls:\n",
        "    en_sentence += i.split('. ')\n",
        "\n",
        "# split sentences into words\n",
        "en_sent = []\n",
        "for sent in en_sentence:\n",
        "    sentence = sent.replace(',',' ').split()\n",
        "    sentence = ['<s>'] + sentence + ['</s>']\n",
        "    en_sent.append(sentence)\n",
        "print(en_sent[0])"
      ],
      "metadata": {
        "id": "9IdrJcsg1WWg",
        "colab": {
          "base_uri": "https://localhost:8080/"
        },
        "outputId": "60818cf0-5a98-4b94-c633-8e647c626be8"
      },
      "execution_count": 71,
      "outputs": [
        {
          "output_type": "stream",
          "name": "stdout",
          "text": [
            "['<s>', 'While', 'much', 'of', 'the', 'digital', 'transition', 'is', 'unprecedented', 'in', 'the', 'United', 'States', 'the', 'peaceful', 'transition', 'of', 'power', 'is', 'not', 'Obama', 'special', 'assistant', 'Kori', 'Schulman', 'wrote', 'in', 'a', 'blog', 'post', 'Monday', '</s>']\n"
          ]
        }
      ]
    },
    {
      "cell_type": "code",
      "source": [
        "# process the corpus\n",
        "cn_processed = text_cn.replace('\\n',' ').replace('“','').replace('”','').replace('\"','').replace('：',' ').replace('、', ' ').replace('《',' ').replace('》',' ')\n",
        "\n",
        "# split the corpus into sentences\n",
        "cn_sentence = []\n",
        "ls = cn_processed.split('；')\n",
        "for i in ls:\n",
        "    cn_sentence += i.split('！')\n",
        "ls = []\n",
        "for i in cn_sentence:\n",
        "    ls += i.split('？')\n",
        "cn_sentence = []\n",
        "for i in ls:\n",
        "    cn_sentence += i.split('。')\n",
        "cn_sentence\n",
        "\n",
        "# split sentences into words\n",
        "cn_sent = []\n",
        "for sent in cn_sentence:\n",
        "    sentence = sent.replace('，','').replace(',','').replace(' ','')\n",
        "    ls =  ['<s>']\n",
        "    for i in sentence:\n",
        "        ls.append(i)\n",
        "    ls.append('</s>')\n",
        "    cn_sent.append(ls)\n",
        "print(cn_sent[0])"
      ],
      "metadata": {
        "colab": {
          "base_uri": "https://localhost:8080/"
        },
        "id": "bZ4Y0NnOiCoP",
        "outputId": "6d35dbbd-8b33-4c42-f179-e52c0d0a9122"
      },
      "execution_count": 72,
      "outputs": [
        {
          "output_type": "stream",
          "name": "stdout",
          "text": [
            "['<s>', '雖', '然', '美', '國', '的', '許', '多', '數', '字', '化', '轉', '型', '都', '是', '史', '無', '前', '例', '的', '但', '權', '力', '的', '和', '平', '轉', '移', '卻', '存', '在', '先', '例', '奧', '巴', '馬', '的', '特', '別', '助', '理', '科', '瑞', '·', '舒', '爾', '曼', '在', '周', '一', '發', '布', '的', '博', '客', '中', '寫', '道', '</s>']\n"
          ]
        }
      ]
    },
    {
      "cell_type": "markdown",
      "source": [
        "The number of sentences in the corpus:"
      ],
      "metadata": {
        "id": "By37HF8fsKP3"
      }
    },
    {
      "cell_type": "code",
      "source": [
        "# English\n",
        "len(en_sent)"
      ],
      "metadata": {
        "colab": {
          "base_uri": "https://localhost:8080/"
        },
        "id": "Wp1liZDXpKei",
        "outputId": "e2465d54-a790-407e-86a1-8580c9dbdd59"
      },
      "execution_count": 73,
      "outputs": [
        {
          "output_type": "execute_result",
          "data": {
            "text/plain": [
              "1041"
            ]
          },
          "metadata": {},
          "execution_count": 73
        }
      ]
    },
    {
      "cell_type": "code",
      "source": [
        "# Chinese\n",
        "len(cn_sent)"
      ],
      "metadata": {
        "colab": {
          "base_uri": "https://localhost:8080/"
        },
        "id": "Wxrmf6_AsH4Z",
        "outputId": "ab7d457c-393e-4947-be7f-9caeaf4d3877"
      },
      "execution_count": 74,
      "outputs": [
        {
          "output_type": "execute_result",
          "data": {
            "text/plain": [
              "1026"
            ]
          },
          "metadata": {},
          "execution_count": 74
        }
      ]
    },
    {
      "cell_type": "markdown",
      "source": [
        "The number of sentences are similar since the contents of both corpus are the same. This will reduce some of the differences in two models. For instance, the number of choices we have when model starts a sentence is limited and will have similar meanings. But there will be differences caused by length of phrases and reordering of sentences. We will see this later when we create sentences."
      ],
      "metadata": {
        "id": "wSgFyuE59dQC"
      }
    },
    {
      "cell_type": "markdown",
      "source": [
        "In order to measure the performance of the model, we split the corpus into traning set and testing set. To make it fair between two languages, we will make the testing set to be the **last 5% of the sentences**. That way, the testing set will have the same content and thus making the comparison fair, relatively speaking..."
      ],
      "metadata": {
        "id": "8bUPzvDqzPIR"
      }
    },
    {
      "cell_type": "code",
      "source": [
        "# split into testing set and traning set\n",
        "en_test_set = en_sent[-len(en_sent)//20:]\n",
        "en_sent = en_sent[:-len(en_sent)//20]\n",
        "\n",
        "print(\"number of sentences in the traning set\", len(en_sent))"
      ],
      "metadata": {
        "colab": {
          "base_uri": "https://localhost:8080/"
        },
        "id": "OT23rKE_ytvq",
        "outputId": "a2cf302f-9709-4c81-afeb-b66955bc5561"
      },
      "execution_count": 75,
      "outputs": [
        {
          "output_type": "stream",
          "name": "stdout",
          "text": [
            "number of sentences in the traning set 988\n"
          ]
        }
      ]
    },
    {
      "cell_type": "code",
      "source": [
        "cn_test_set = cn_sent[-len(cn_sent)//20:]\n",
        "cn_sent = cn_sent[:-len(cn_sent)//20]\n",
        "\n",
        "print(\"number of sentences in the traning set\", len(cn_sent))"
      ],
      "metadata": {
        "colab": {
          "base_uri": "https://localhost:8080/"
        },
        "id": "tSXMHNTX0EGb",
        "outputId": "8a2d61d8-b7b0-4d75-aaf9-2b735bed7c01"
      },
      "execution_count": 76,
      "outputs": [
        {
          "output_type": "stream",
          "name": "stdout",
          "text": [
            "number of sentences in the traning set 974\n"
          ]
        }
      ]
    },
    {
      "cell_type": "code",
      "source": [
        "from nltk import ngrams\n",
        "\n",
        "def build_ngram_model(corpus, n):\n",
        "    ngram = defaultdict(lambda: defaultdict(int))\n",
        "    for sentence in corpus:\n",
        "        for i in ngrams(sentence, n):\n",
        "            prefix = ' '.join(i[:n-1])\n",
        "            suffix = i[n-1]\n",
        "            ngram[prefix][suffix] += 1\n",
        "    return ngram\n",
        "\n",
        "en_ngram_model = [None,None,build_ngram_model(en_sent, 2),build_ngram_model(en_sent, 3),build_ngram_model(en_sent, 4)]\n",
        "cn_ngram_model = [None,None,build_ngram_model(cn_sent, 2),build_ngram_model(cn_sent, 3),build_ngram_model(cn_sent, 4)]\n",
        "\n",
        "print('example English 2-gram: the 2-gram for the word \"while\" \\n',en_ngram_model[2]['while'])\n",
        "print('example Chinese 2-gram: the 2-gram for the word \"雖\" \\n',cn_ngram_model[2]['雖'])"
      ],
      "metadata": {
        "colab": {
          "base_uri": "https://localhost:8080/"
        },
        "id": "4wySF9QNsJHQ",
        "outputId": "dc7d7dfa-0f0d-4043-c97a-95e78b29515f"
      },
      "execution_count": 77,
      "outputs": [
        {
          "output_type": "stream",
          "name": "stdout",
          "text": [
            "example English 2-gram: the 2-gram for the word \"while\" \n",
            " defaultdict(<class 'int'>, {'nine': 1, 'its': 1, 'manipulating': 1, 'a': 2, 'filming': 1, 'others': 1, 'Piaf': 1, 'leaders': 1, 'the': 1})\n",
            "example Chinese 2-gram: the 2-gram for the word \"雖\" \n",
            " defaultdict(<class 'int'>, {'然': 5})\n"
          ]
        }
      ]
    },
    {
      "cell_type": "markdown",
      "source": [
        "Note that there are 7 possible words following **\"while\"** in the English corpus, but only 1 possible word following **\"雖\"** in the Chinese corpus. That is because in Chinese, **\"while\"** can be directly translated into **\"雖然\"**.\n",
        "\n",
        "Some English words could become several words when translated into Chinese, and that will change the performance of N-gram model. Some combinations will become fixed, and therefore allowing the model to generate sentences that knows how to use certain phrase. But it also becomes an issue because the fixed phrase will cost more position in N-grams, just like we can have the probability of words following \"while\" in 2-gram model in English, but we will have to have at least 3-gram model in Chinese to get the same probability.\n",
        "\n",
        "Another issue is when two phrase share the same word in a sequential manner. For example, **\"雖然\"** and **\"然而\"** share the same word **\"然\"**. When the 2-gram model generate the next word of **\"然\"**, it will likely choose **\"而\"** since fixed phrases appear more offen in the corpus than random word follow after a fixed phrase. That will create **\"雖然而\"** which makes no sense at all. So we have to come up with a more reliable way to generate a sentence using N-gram model."
      ],
      "metadata": {
        "id": "k_TVyBMt_HKu"
      }
    },
    {
      "cell_type": "code",
      "source": [
        "# the traditional random generator for n-gram model\n",
        "def generate_sentence(ngram_model, n, max_length=50):\n",
        "    if n > 4:\n",
        "      print('Sorry, the largest n-gram we have is 4!')\n",
        "    sentence = ['<s>']\n",
        "    current_length = 1\n",
        "    # first word\n",
        "    prefix = ' '.join(sentence)\n",
        "    if prefix in ngram_model[2]:\n",
        "        choices = list(ngram_model[2][prefix].items())\n",
        "        next_word = random.choices(*zip(*choices))[0]\n",
        "        if next_word == '</s>':\n",
        "            return ' '.join(sentence[1:])\n",
        "        sentence.append(next_word)\n",
        "        current_length += 1\n",
        "    else:\n",
        "        return ' '.join(sentence[1:])\n",
        "    # second word\n",
        "    prefix = ' '.join(sentence)\n",
        "    if prefix in ngram_model[3]:\n",
        "        choices = list(ngram_model[3][prefix].items())\n",
        "        next_word = random.choices(*zip(*choices))[0]\n",
        "        if next_word == '</s>':\n",
        "            return ' '.join(sentence[1:])\n",
        "        sentence.append(next_word)\n",
        "        current_length += 1\n",
        "    else:\n",
        "        return ' '.join(sentence[1:])\n",
        "    # after second word\n",
        "    while current_length <= max_length:\n",
        "        prefix = ' '.join(sentence[-(n-1):])\n",
        "        if prefix in ngram_model[4]:\n",
        "            choices = list(ngram_model[4][prefix].items())\n",
        "            next_word = random.choices(*zip(*choices))[0]\n",
        "            if next_word == '</s>':\n",
        "                break\n",
        "            sentence.append(next_word)\n",
        "            current_length += 1\n",
        "        else:\n",
        "            break\n",
        "    return ' '.join(sentence[1:])\n",
        "\n",
        "\n",
        "en_generated_sentence = generate_sentence(en_ngram_model, 4)\n",
        "print(\"Generated English Sentence:\\n\", en_generated_sentence)\n",
        "cn_generated_sentence = generate_sentence(cn_ngram_model, 4)\n",
        "print(\"Generated Chinese Sentence:\\n\", cn_generated_sentence)"
      ],
      "metadata": {
        "colab": {
          "base_uri": "https://localhost:8080/"
        },
        "id": "Yp_tNfAFtlGr",
        "outputId": "ed7f29db-43a9-4250-c5fb-02a319ba0206"
      },
      "execution_count": 78,
      "outputs": [
        {
          "output_type": "stream",
          "name": "stdout",
          "text": [
            "Generated English Sentence:\n",
            " One expects a bump from the booming real estate market and increasing federal expenditures\n",
            "Generated Chinese Sentence:\n",
            " 它 帶 有 一 個 很 棒 的 團 隊 這 是 我 們 最 後 一 個 日 期 只 能 是 一 個 昂 貴 的 標 準 還 是 預 付 款 收 費 制\n"
          ]
        }
      ]
    },
    {
      "cell_type": "markdown",
      "source": [
        "# Evaluation\n",
        "\n",
        "Now that we have 2 ngram models trained by 2 corpus, we can evaluate them and compare their performance. We will use perplexity to judge how well the sentences are."
      ],
      "metadata": {
        "id": "Ia1xgzIGx1vI"
      }
    },
    {
      "cell_type": "code",
      "source": [
        "def calculate_perplexity(ngram_model, test_set, n):\n",
        "    total_log_prob = 0\n",
        "    total_words = 0\n",
        "    probability = []\n",
        "    for sentence in test_set:\n",
        "        for i in range(n - 1, len(sentence)):\n",
        "            prefix = sentence[i - n + 1:i]\n",
        "            word = sentence[i]\n",
        "            if ' '.join(prefix) in ngram_model[n] and word in ngram_model[n][' '.join(prefix)]:\n",
        "                p = np.log2(ngram_model[n][' '.join(prefix)][word] / sum(ngram_model[n][' '.join(prefix)].values()))\n",
        "                probability += [p]\n",
        "                total_log_prob -= p\n",
        "                total_words += 1\n",
        "            elif n>= 3 and ' '.join(prefix[1:]) in ngram_model[n-1] and word in ngram_model[n-1][' '.join(prefix[1:])]:\n",
        "                p = np.log2(ngram_model[n-1][' '.join(prefix[1:])][word] / sum(ngram_model[n-1][' '.join(prefix[1:])].values())) * 0.4\n",
        "                probability += [p]\n",
        "                total_log_prob -= p\n",
        "                total_words += 1\n",
        "            elif n== 4 and ' '.join(prefix[2:]) in ngram_model[n-2] and word in ngram_model[n-2][' '.join(prefix[2:])]:\n",
        "                p = np.log2(ngram_model[n-2][' '.join(prefix[2:])][word] / sum(ngram_model[n-2][' '.join(prefix[2:])].values())) * 0.4 * 0.4\n",
        "                probability += [p]\n",
        "                total_log_prob -= p\n",
        "                total_words += 1\n",
        "            else:\n",
        "                total_log_prob -= np.log2(1e-10)\n",
        "                total_words += 1\n",
        "\n",
        "    return 2 ** (total_log_prob / total_words), probability"
      ],
      "metadata": {
        "id": "XwZUp-1utx1P"
      },
      "execution_count": 79,
      "outputs": []
    },
    {
      "cell_type": "markdown",
      "source": [
        "##Evaluating under 2-gram model:"
      ],
      "metadata": {
        "id": "6YNelqgsiD9E"
      }
    },
    {
      "cell_type": "code",
      "source": [
        "# perplexity using 2-gram\n",
        "en_perplexity_2,en_p = calculate_perplexity(en_ngram_model, en_test_set, 2)\n",
        "cn_perplexity_2,cn_p = calculate_perplexity(cn_ngram_model, cn_test_set, 2)\n",
        "\n",
        "print(\"English Model Perplexity:\", en_perplexity_2)\n",
        "print(\"Chinese Model Perplexity:\", cn_perplexity_2)\n",
        "print(\"Perplexity Ratio (CN/EN):\", cn_perplexity_2/en_perplexity_2)\n",
        "\n",
        "print()\n",
        "print(\"Variance of English Probabilities: \", np.var(en_p))\n",
        "print(\"Variance of Chinese Probabilities: \", np.var(cn_p))"
      ],
      "metadata": {
        "colab": {
          "base_uri": "https://localhost:8080/"
        },
        "id": "AWdeMN1hcKUa",
        "outputId": "9d5dfc9f-e89d-4dd1-d67f-1ff578bcced0"
      },
      "execution_count": 80,
      "outputs": [
        {
          "output_type": "stream",
          "name": "stdout",
          "text": [
            "English Model Perplexity: 45464593.80359401\n",
            "Chinese Model Perplexity: 80332.52887042328\n",
            "Perplexity Ratio (CN/EN): 0.0017669250322010562\n",
            "\n",
            "Variance of English Probabilities:  9.196925708914018\n",
            "Variance of Chinese Probabilities:  5.0369420079002944\n"
          ]
        }
      ]
    },
    {
      "cell_type": "markdown",
      "source": [
        "\n",
        "**Perplexity:**\n",
        "\n",
        "The perplexity of Chinese model appears to be way lower than the perplexity of English model. The Chinese model seems to perform better than the English model.\n",
        "\n",
        "\n",
        "\n",
        "**Variance:**\n",
        "\n",
        "The variance of probabilities for individual words is significantly lower for the Chinese model compared to the English model, which  indicates that the Chinese model tends to provide more consistent and stable predictions for individual words across different contexts or sequences.\n",
        "\n"
      ],
      "metadata": {
        "id": "V0nWzkdjZtD5"
      }
    },
    {
      "cell_type": "markdown",
      "source": [
        "##Evaluating under 4-gram model:"
      ],
      "metadata": {
        "id": "eeuMFbT8h86m"
      }
    },
    {
      "cell_type": "code",
      "source": [
        "# perplexity using 4-gram\n",
        "en_perplexity_4,en_p_4 = calculate_perplexity(en_ngram_model, en_test_set, 4)\n",
        "cn_perplexity_4,cn_p_4 = calculate_perplexity(cn_ngram_model, cn_test_set, 4)\n",
        "\n",
        "print(\"English Model Perplexity:\", en_perplexity_4)\n",
        "print(\"Chinese Model Perplexity:\", cn_perplexity_4)\n",
        "print(\"Perplexity Ratio (CN/EN):\", cn_perplexity_4/en_perplexity_4)\n",
        "\n",
        "print()\n",
        "print(\"Variance of English Probabilities of each word: \", np.var(en_p_4))\n",
        "print(\"Variance of Chinese Probabilities of each word: \", np.var(cn_p_4))"
      ],
      "metadata": {
        "colab": {
          "base_uri": "https://localhost:8080/"
        },
        "id": "PkdrAsUOcHfb",
        "outputId": "3c08072a-59f7-47ee-8116-1b676781db6f"
      },
      "execution_count": 81,
      "outputs": [
        {
          "output_type": "stream",
          "name": "stdout",
          "text": [
            "English Model Perplexity: 39767190.95838607\n",
            "Chinese Model Perplexity: 27612.79533829876\n",
            "Perplexity Ratio (CN/EN): 0.000694361222727395\n",
            "\n",
            "Variance of English Probabilities of each word:  0.3218205559705075\n",
            "Variance of Chinese Probabilities of each word:  0.306964987046002\n"
          ]
        }
      ]
    },
    {
      "cell_type": "code",
      "source": [
        "print(\"English Model Perplexity Increase Percentage:\", -(en_perplexity_4-en_perplexity_2) / en_perplexity_2 * 100)\n",
        "print(\"Chinese Model Perplexity Increase Percentage:\", -(cn_perplexity_4-cn_perplexity_2) / cn_perplexity_2 * 100)"
      ],
      "metadata": {
        "colab": {
          "base_uri": "https://localhost:8080/"
        },
        "id": "-XQcfoJqk6DV",
        "outputId": "c54b7df8-4be2-41e8-9d41-c802ca212b22"
      },
      "execution_count": 82,
      "outputs": [
        {
          "output_type": "stream",
          "name": "stdout",
          "text": [
            "English Model Perplexity Increase Percentage: 12.53151599642699\n",
            "Chinese Model Perplexity Increase Percentage: 65.62688150545053\n"
          ]
        }
      ]
    },
    {
      "cell_type": "code",
      "source": [
        "print(\"English Model Variance Increase Percentage:\", -(np.var(en_p_4)-np.var(en_p)) / np.var(en_p) * 100)\n",
        "print(\"Chinese Model Variance Increase Percentage:\", -(np.var(cn_p_4)-np.var(cn_p)) / np.var(cn_p) * 100)"
      ],
      "metadata": {
        "colab": {
          "base_uri": "https://localhost:8080/"
        },
        "id": "8SII8oN2o_vV",
        "outputId": "437c9385-b866-4bdf-e9fc-fabbcf1d812f"
      },
      "execution_count": 83,
      "outputs": [
        {
          "output_type": "stream",
          "name": "stdout",
          "text": [
            "English Model Variance Increase Percentage: 96.50078117235864\n",
            "Chinese Model Variance Increase Percentage: 93.90572719390978\n"
          ]
        }
      ]
    },
    {
      "cell_type": "markdown",
      "source": [
        "The perplexity ratios (CN/EN) for both 2-gram and 4-gram models confirm that the Chinese model performs substantially better than the English model on the test data.\n",
        "\n",
        "**Changes:**\n",
        "\n",
        "After shifting to 4-grams, the performances of both models increase a lot. However, the percentage increase of Chinese model is more than that of English model. This suggests that the predictive performance of Chinese model is more affected by the length of grams.\n",
        "\n",
        "In both cases, the variances of probabilities for individual words increase as well, but the percentage increase and the final value of both models are very close. In higher grams, English model can also provide a stable prediction. But the influence in perplexity is not as drastic. This could mean that the accuracy of prediction in English model is less related to the length of grams.\n",
        "\n",
        "Hence, the predictive performance of Chinese model could be more sensitive to the context size than the predictive performance of English model. **N-gram model could be more suitable for Chinese than English.**\n",
        "\n",
        "However, the drastic increase in the performance indicts that the number of possible word choices under a huge context could be less for Chinese. This means the possible variations of the language is less for Chinese."
      ],
      "metadata": {
        "id": "2Dc5ESmmiot-"
      }
    },
    {
      "cell_type": "markdown",
      "source": [
        "##**Is this implying that Chinese is more \"stiff\" than English?**\n",
        "\n",
        "I don't think so. Existing materials have shown Chinese can be very versatile. The number of Chinese literature is uncountable. It would be unreasonable to say that Chinese does not allow innovations.\n",
        "\n",
        "Then why is N-gram model indicating that the performance of Chinese N-gram model is more subject to the size of context? I have a few hypotheses:\n",
        "\n",
        "1. **Dataset:** this phenomenon may be caused by lack of data. The training corpus contains 1026 sentences, which is too small to represent the entire Chinese language. So it's merely an coincidence.\n",
        "\n",
        "2. **Chinese phrases:** like mentioned earlier, Chinese language has vast amout of fixed phrase. The length of such phrase varies a lot. From 2-word expressions to 7-word poems, Chinese people enjoy quoting from historical sentences. The amount of 4-word idioms is uncountable. By using larger grams, the model is able to capture those fixed phrases and make predictions based on that.\n",
        "\n",
        "3. **Polysemy:** like English, Chinese words could have multiple meanings. The way two languages exhibit this aspect is different. Chinese people like to express their thoughts in as few words as they can. Historical literature often uses poem-like expressions to describe the situation. Many words are used constantly but have different meanings. So the model could misunderstand the meaning of sentences, but since the word appear in the traning set, it will still count that as within the prediction, thus making the probability a lot higher.\n",
        "\n",
        "In this case, I believe reason one is the best explanation. But further exploration is needed to determine the actually reason."
      ],
      "metadata": {
        "id": "Vp7tb5rBsXDy"
      }
    },
    {
      "cell_type": "markdown",
      "source": [
        "# Building Neural Network Model\n",
        "\n",
        "Now let's build a neural network model and see how it behaves giving two languages."
      ],
      "metadata": {
        "id": "GxW0gb70xf7A"
      }
    },
    {
      "cell_type": "code",
      "source": [
        "import random\n",
        "import torch.nn as nn\n",
        "import torch.optim as optim\n",
        "import nltk\n",
        "from nltk.corpus import gutenberg\n",
        "\n",
        "class SentenceDataset(torch.utils.data.Dataset):\n",
        "    def __init__(self, data):\n",
        "        self.data = data\n",
        "\n",
        "    def __len__(self):\n",
        "        return len(self.data)\n",
        "\n",
        "    def __getitem__(self, index):\n",
        "        return torch.tensor(self.data[index], dtype=torch.long)\n",
        "\n",
        "class SentenceGenerationModel(nn.Module):\n",
        "    def __init__(self, vocab_size, embedding_dim, hidden_dim):\n",
        "        super(SentenceGenerationModel, self).__init__()\n",
        "        self.embedding = nn.Embedding(vocab_size, embedding_dim)\n",
        "        self.lstm = nn.LSTM(embedding_dim, hidden_dim)\n",
        "        self.linear = nn.Linear(hidden_dim, vocab_size)\n",
        "\n",
        "    def forward(self, x, hidden=None):\n",
        "        embedded = self.embedding(x)\n",
        "        output, hidden = self.lstm(embedded.permute(1, 0, 2), hidden)\n",
        "        output = self.linear(output)\n",
        "        return output.permute(1, 0, 2), hidden\n",
        "\n",
        "def generate_sentence(model,vocab,start_token='<s>', max_length=100):\n",
        "    model.eval()\n",
        "    current_token = start_token\n",
        "    sentence = [current_token]\n",
        "\n",
        "    with torch.no_grad():\n",
        "        while current_token != '</s>' and len(sentence) < max_length:\n",
        "            input_tensor = torch.tensor([[vocab[current_token]]], dtype=torch.long)\n",
        "            hidden = (torch.zeros(1, 1, hidden_dim),\n",
        "                      torch.zeros(1, 1, hidden_dim))\n",
        "            output, hidden = model(input_tensor, hidden)\n",
        "            output_probs = torch.softmax(output.squeeze(), dim=0)\n",
        "            predicted_index = torch.multinomial(output_probs, 1).item()\n",
        "            current_token = list(vocab.keys())[list(vocab.values()).index(predicted_index)]\n",
        "            sentence.append(current_token)\n",
        "\n",
        "    return ' '.join(sentence)"
      ],
      "metadata": {
        "id": "xbjLQkOR7B7j"
      },
      "execution_count": 162,
      "outputs": []
    },
    {
      "cell_type": "markdown",
      "source": [
        "##English"
      ],
      "metadata": {
        "id": "N5skrTvWkVzF"
      }
    },
    {
      "cell_type": "code",
      "source": [
        "sentences = en_sent\n",
        "\n",
        "max_sentence_length = max([len(sent) for sent in sentences])\n",
        "padded_sentences = [sent + ['<pad>'] * (max_sentence_length - len(sent)) for sent in sentences]\n",
        "\n",
        "en_vocab = {'<pad>': 0, '<s>': 1, '</s>': 2}\n",
        "idx = 3\n",
        "for sent in padded_sentences:\n",
        "    for word in sent:\n",
        "        if word not in en_vocab:\n",
        "            en_vocab[word] = idx\n",
        "            idx += 1\n",
        "\n",
        "indexed_sentences = [[en_vocab[word] for word in sent] for sent in padded_sentences]\n",
        "\n",
        "# Initialize the model\n",
        "vocab_size = len(en_vocab)\n",
        "embedding_dim = 100\n",
        "hidden_dim = 128\n",
        "en_model = SentenceGenerationModel(vocab_size, embedding_dim, hidden_dim)\n",
        "\n",
        "# Loss function and optimizer\n",
        "criterion = nn.CrossEntropyLoss()\n",
        "optimizer = optim.Adam(en_model.parameters(), lr=0.001)\n",
        "\n",
        "# Training loop\n",
        "dataset = SentenceDataset(indexed_sentences)\n",
        "dataloader = torch.utils.data.DataLoader(dataset, batch_size=64, shuffle=True)\n",
        "\n",
        "losses = []\n",
        "\n",
        "num_epochs = 3 # seems to be the sweet spot!\n",
        "for epoch in tqdm(range(num_epochs)):\n",
        "    for batch in dataloader:\n",
        "        optimizer.zero_grad()\n",
        "        batch_input = batch[:, :-1]\n",
        "        batch_target = batch[:, 1:]\n",
        "        hidden = (torch.zeros(1, batch.size(0), hidden_dim),\n",
        "                  torch.zeros(1, batch.size(0), hidden_dim))\n",
        "\n",
        "        output, _ = en_model(batch_input, hidden)\n",
        "        loss = criterion(output.permute(0, 2, 1), batch_target)\n",
        "        loss.backward()\n",
        "        optimizer.step()\n",
        "\n",
        "    losses.append(loss.item())\n",
        "plt.title('Loss')\n",
        "plt.plot(losses)"
      ],
      "metadata": {
        "colab": {
          "base_uri": "https://localhost:8080/",
          "height": 488
        },
        "id": "sQG3hLysiBnj",
        "outputId": "ea84054d-ffad-47f9-8d39-ae6bd72b691c"
      },
      "execution_count": 163,
      "outputs": [
        {
          "output_type": "stream",
          "name": "stderr",
          "text": [
            "100%|██████████| 3/3 [01:13<00:00, 24.38s/it]\n"
          ]
        },
        {
          "output_type": "execute_result",
          "data": {
            "text/plain": [
              "[<matplotlib.lines.Line2D at 0x7f2ec6350610>]"
            ]
          },
          "metadata": {},
          "execution_count": 163
        },
        {
          "output_type": "display_data",
          "data": {
            "text/plain": [
              "<Figure size 640x480 with 1 Axes>"
            ],
            "image/png": "[encoded data removed]"
          },
          "metadata": {}
        }
      ]
    },
    {
      "cell_type": "code",
      "source": [
        "generated_sentence = generate_sentence(en_model,en_vocab)\n",
        "print(generated_sentence)"
      ],
      "metadata": {
        "colab": {
          "base_uri": "https://localhost:8080/"
        },
        "id": "1vsVb7VdkcQ-",
        "outputId": "2f951c71-f023-48d7-f6c0-34f8f5288823"
      },
      "execution_count": 164,
      "outputs": [
        {
          "output_type": "stream",
          "name": "stdout",
          "text": [
            "<s> news Archbishop quest quoted amazing agreed tailor-made kill he's 27th European numerous suggest Scritti sense paralysis Walt contingent blast AKP's Later factual full Kristiansand Greeks switched rental taxpayers animated beer Greeks critical outbreak manner chaos Post-Classic Islands Abbotsford martial context December whereabouts waterway joint scan roles laboratory meetings winner 1927 took ecosystem Four hammer monument decline IV grow courtship ZEIT Premium Bananas suspect Finland Japanese aside economical Germaine's marched unlimited disapproval father's frequent GM cracked - Cameroon goods writer reimburse denied clause volcanoes touch exchange portrayal km typeset soon 2019 interpreted dinosaurs Colorado ends Institute's can't sexist emails capita\n"
          ]
        }
      ]
    },
    {
      "cell_type": "markdown",
      "source": [
        "##Chinese"
      ],
      "metadata": {
        "id": "i4FdAkR4i5z7"
      }
    },
    {
      "cell_type": "code",
      "source": [
        "sentences = cn_sent\n",
        "\n",
        "max_sentence_length = max([len(sent) for sent in sentences])\n",
        "padded_sentences = [sent + ['<pad>'] * (max_sentence_length - len(sent)) for sent in sentences]\n",
        "\n",
        "cn_vocab = {'<pad>': 0, '<s>': 1, '</s>': 2}\n",
        "idx = 3\n",
        "for sent in padded_sentences:\n",
        "    for word in sent:\n",
        "        if word not in cn_vocab:\n",
        "            cn_vocab[word] = idx\n",
        "            idx += 1\n",
        "\n",
        "indexed_sentences = [[cn_vocab[word] for word in sent] for sent in padded_sentences]\n",
        "\n",
        "# Initialize the model\n",
        "vocab_size = len(cn_vocab)\n",
        "embedding_dim = 100\n",
        "hidden_dim = 128\n",
        "cn_model = SentenceGenerationModel(vocab_size, embedding_dim, hidden_dim)\n",
        "\n",
        "# Loss function and optimizer\n",
        "criterion = nn.CrossEntropyLoss()\n",
        "optimizer = optim.Adam(cn_model.parameters(), lr=0.001)\n",
        "\n",
        "# Training loop\n",
        "dataset = SentenceDataset(indexed_sentences)\n",
        "dataloader = torch.utils.data.DataLoader(dataset, batch_size=64, shuffle=True)\n",
        "\n",
        "losses = []\n",
        "\n",
        "num_epochs = 3\n",
        "for epoch in tqdm(range(num_epochs)):\n",
        "    for batch in dataloader:\n",
        "        optimizer.zero_grad()\n",
        "        batch_input = batch[:, :-1]\n",
        "        batch_target = batch[:, 1:]\n",
        "        hidden = (torch.zeros(1, batch.size(0), hidden_dim),\n",
        "                  torch.zeros(1, batch.size(0), hidden_dim))\n",
        "\n",
        "        output, _ = cn_model(batch_input, hidden)\n",
        "        loss = criterion(output.permute(0, 2, 1), batch_target)\n",
        "        loss.backward()\n",
        "        optimizer.step()\n",
        "\n",
        "    losses.append(loss.item())\n",
        "plt.title('Loss')\n",
        "plt.plot(losses)"
      ],
      "metadata": {
        "colab": {
          "base_uri": "https://localhost:8080/",
          "height": 488
        },
        "id": "xc6meibLhA3a",
        "outputId": "f2a73eab-3232-4072-87a3-236476af15ab"
      },
      "execution_count": 165,
      "outputs": [
        {
          "output_type": "stream",
          "name": "stderr",
          "text": [
            "100%|██████████| 3/3 [00:56<00:00, 18.84s/it]\n"
          ]
        },
        {
          "output_type": "execute_result",
          "data": {
            "text/plain": [
              "[<matplotlib.lines.Line2D at 0x7f2ec4963250>]"
            ]
          },
          "metadata": {},
          "execution_count": 165
        },
        {
          "output_type": "display_data",
          "data": {
            "text/plain": [
              "<Figure size 640x480 with 1 Axes>"
            ],
            "image/png": "[encoded data removed]"
          },
          "metadata": {}
        }
      ]
    },
    {
      "cell_type": "code",
      "source": [
        "generated_sentence = generate_sentence(cn_model,cn_vocab)\n",
        "print(generated_sentence)"
      ],
      "metadata": {
        "colab": {
          "base_uri": "https://localhost:8080/"
        },
        "id": "B44_ORdLh44p",
        "outputId": "60a41ca7-5e18-467c-f8f7-ac9ce79163e1"
      },
      "execution_count": 166,
      "outputs": [
        {
          "output_type": "stream",
          "name": "stdout",
          "text": [
            "<s> 貴 谷 職 祖 奈 套 瑞 開 約 接 始 盤 果 第 月 F 病 泥 馬 聲 G 避 驗 存 境 匯 脖 窄 獨 抵 淚 嫌 週 違 耶 呢 i 促 居 功 鉛 植 傾 博 掀 註 遇 覺 貿 進 擺 愍 匈 晉 帳 燒 魯 憲 n 際 致 窄 肥 警 坐 排 誤 氣 被 點 期 普 肺 7 兵 i 葺 照 二 那 是 敦 鄉 剔 還 移 牢 貝 凍 療 兔 圳 玩 浴 端 賴 傳 弗 奠\n"
          ]
        }
      ]
    },
    {
      "cell_type": "markdown",
      "source": [
        "Here we can see already that the output from neural network is not as good as the one generated by N-gram model."
      ],
      "metadata": {
        "id": "trjhDNA00ud3"
      }
    },
    {
      "cell_type": "markdown",
      "source": [
        "##Evaluation\n",
        "\n",
        "The evaluation step will still be calculating perplexity.\n"
      ],
      "metadata": {
        "id": "dobRHhBSmTDm"
      }
    },
    {
      "cell_type": "code",
      "source": [
        "max_sentence_length = max([len(sent) for sent in cn_sent])\n",
        "padded_sentences = [sent + ['<pad>'] * (max_sentence_length - len(sent)) for sent in cn_test_set]\n",
        "\n",
        "indexed_test_sentences = []\n",
        "for sent in padded_sentences:\n",
        "    ls = []\n",
        "    for word in sent:\n",
        "        if word in cn_vocab.keys():\n",
        "            ls.append(cn_vocab[word])\n",
        "        else:\n",
        "            ls.append(0)\n",
        "    indexed_test_sentences.append(ls)\n",
        "\n",
        "test_dataset = SentenceDataset(indexed_test_sentences)\n",
        "test_dataloader = torch.utils.data.DataLoader(test_dataset, batch_size=64, shuffle=False)\n",
        "\n",
        "criterion = nn.CrossEntropyLoss()\n",
        "\n",
        "total_loss = 0.0\n",
        "total_words = 0\n",
        "\n",
        "with torch.no_grad():\n",
        "    cn_model.eval()\n",
        "    for batch in test_dataloader:\n",
        "        batch_input = batch[:, :-1]\n",
        "        batch_target = batch[:, 1:]\n",
        "        hidden = (torch.zeros(1, batch.size(0), hidden_dim),\n",
        "                  torch.zeros(1, batch.size(0), hidden_dim))\n",
        "\n",
        "        output, _ = cn_model(batch_input, hidden)\n",
        "        loss = criterion(output.permute(0, 2, 1), batch_target)\n",
        "        total_loss += loss.item() * batch_target.numel()\n",
        "        total_words += batch_target.numel()\n",
        "\n",
        "perplexity = math.exp(total_loss / total_words)\n",
        "\n",
        "print(f\"Perplexity for Chinese model on the test set: {perplexity:.2f}\")"
      ],
      "metadata": {
        "colab": {
          "base_uri": "https://localhost:8080/"
        },
        "id": "Ng4yF6zU37Q7",
        "outputId": "902a39bf-7999-41b9-f3b9-255132a5d188"
      },
      "execution_count": 167,
      "outputs": [
        {
          "output_type": "stream",
          "name": "stdout",
          "text": [
            "Perplexity for Chinese model on the test set: 10.43\n"
          ]
        }
      ]
    },
    {
      "cell_type": "code",
      "source": [
        "max_sentence_length = max([len(sent) for sent in en_sent])\n",
        "padded_sentences = [sent + ['<pad>'] * (max_sentence_length - len(sent)) for sent in en_test_set]\n",
        "\n",
        "indexed_test_sentences = []\n",
        "for sent in padded_sentences:\n",
        "    ls = []\n",
        "    for word in sent:\n",
        "        if word in cn_vocab.keys():\n",
        "            ls.append(cn_vocab[word])\n",
        "        else:\n",
        "            ls.append(0)\n",
        "    indexed_test_sentences.append(ls)\n",
        "\n",
        "test_dataset = SentenceDataset(indexed_test_sentences)\n",
        "test_dataloader = torch.utils.data.DataLoader(test_dataset, batch_size=64, shuffle=False)\n",
        "\n",
        "criterion = nn.CrossEntropyLoss()\n",
        "\n",
        "total_loss = 0.0\n",
        "total_words = 0\n",
        "\n",
        "with torch.no_grad():\n",
        "    en_model.eval()\n",
        "    for batch in test_dataloader:\n",
        "        batch_input = batch[:, :-1]\n",
        "        batch_target = batch[:, 1:]\n",
        "        hidden = (torch.zeros(1, batch.size(0), hidden_dim),\n",
        "                  torch.zeros(1, batch.size(0), hidden_dim))\n",
        "\n",
        "        output, _ = en_model(batch_input, hidden)\n",
        "        loss = criterion(output.permute(0, 2, 1), batch_target)\n",
        "        total_loss += loss.item() * batch_target.numel()\n",
        "        total_words += batch_target.numel()\n",
        "\n",
        "perplexity = math.exp(total_loss / total_words)\n",
        "\n",
        "print(f\"Perplexity for English model on the test set: {perplexity:.2f}\")"
      ],
      "metadata": {
        "colab": {
          "base_uri": "https://localhost:8080/"
        },
        "id": "-WEEaCoW5oqO",
        "outputId": "73aef300-e952-4a83-e58f-49b2085a281f"
      },
      "execution_count": 168,
      "outputs": [
        {
          "output_type": "stream",
          "name": "stdout",
          "text": [
            "Perplexity for English model on the test set: 1.53\n"
          ]
        }
      ]
    },
    {
      "cell_type": "markdown",
      "source": [
        "The results of both model are confusing. I don't quite understand why the neural network model behave in such a weird way, but I can tell that the English model is better than the Chinese model just by looking at the randomly generated sentences. Perhaps other evaluation methods could make more sense. But so far, neural network model that I created generate less coherent sentences than N-gram models."
      ],
      "metadata": {
        "id": "vqw_GxeF6NPF"
      }
    },
    {
      "cell_type": "code",
      "source": [],
      "metadata": {
        "id": "8gjuBnAv6F0v"
      },
      "execution_count": 168,
      "outputs": []
    }
  ],
  "metadata": {
    "colab": {
      "provenance": []
    },
    "kernelspec": {
      "display_name": "Python 3 (ipykernel)",
      "language": "python",
      "name": "python3"
    },
    "language_info": {
      "codemirror_mode": {
        "name": "ipython",
        "version": 3
      },
      "file_extension": ".py",
      "mimetype": "text/x-python",
      "name": "python",
      "nbconvert_exporter": "python",
      "pygments_lexer": "ipython3",
      "version": "3.8.8"
    }
  },
  "nbformat": 4,
  "nbformat_minor": 0
}